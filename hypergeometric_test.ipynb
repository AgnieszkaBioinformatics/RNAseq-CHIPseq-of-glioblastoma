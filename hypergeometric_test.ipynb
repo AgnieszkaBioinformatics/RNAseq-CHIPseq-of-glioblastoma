{
 "cells": [
  {
   "cell_type": "markdown",
   "metadata": {},
   "source": [
    "## Hypergeometric test"
   ]
  },
  {
   "cell_type": "code",
   "execution_count": 1,
   "metadata": {},
   "outputs": [],
   "source": [
    "import polars\n",
    "from scipy.stats import hypergeom"
   ]
  },
  {
   "cell_type": "markdown",
   "metadata": {},
   "source": [
    "### Number of all genes"
   ]
  },
  {
   "cell_type": "code",
   "execution_count": 2,
   "metadata": {},
   "outputs": [
    {
     "data": {
      "text/html": [
       "<div><style>\n",
       ".dataframe > thead > tr,\n",
       ".dataframe > tbody > tr {\n",
       "  text-align: right;\n",
       "  white-space: pre-wrap;\n",
       "}\n",
       "</style>\n",
       "<small>shape: (18_777, 5)</small><table border=\"1\" class=\"dataframe\"><thead><tr><th>Gene</th><th>Chrom</th><th>Pos</th><th>Strand</th><th>Symbol</th></tr><tr><td>str</td><td>str</td><td>i64</td><td>str</td><td>str</td></tr></thead><tbody><tr><td>&quot;ENSG0000018609…</td><td>&quot;chr1&quot;</td><td>65418</td><td>&quot;+&quot;</td><td>&quot;OR4F5&quot;</td></tr><tr><td>&quot;ENSG0000028473…</td><td>&quot;chr1&quot;</td><td>451697</td><td>&quot;-&quot;</td><td>&quot;OR4F29&quot;</td></tr><tr><td>&quot;ENSG0000028466…</td><td>&quot;chr1&quot;</td><td>686673</td><td>&quot;-&quot;</td><td>&quot;OR4F16&quot;</td></tr><tr><td>&quot;ENSG0000018763…</td><td>&quot;chr1&quot;</td><td>925737</td><td>&quot;+&quot;</td><td>&quot;SAMD11&quot;</td></tr><tr><td>&quot;ENSG0000018897…</td><td>&quot;chr1&quot;</td><td>959290</td><td>&quot;-&quot;</td><td>&quot;NOC2L&quot;</td></tr><tr><td>&quot;ENSG0000018796…</td><td>&quot;chr1&quot;</td><td>960586</td><td>&quot;+&quot;</td><td>&quot;KLHL17&quot;</td></tr><tr><td>&quot;ENSG0000018758…</td><td>&quot;chr1&quot;</td><td>966496</td><td>&quot;+&quot;</td><td>&quot;PLEKHN1&quot;</td></tr><tr><td>&quot;ENSG0000018764…</td><td>&quot;chr1&quot;</td><td>981029</td><td>&quot;-&quot;</td><td>&quot;PERM1&quot;</td></tr><tr><td>&quot;ENSG0000018829…</td><td>&quot;chr1&quot;</td><td>1000172</td><td>&quot;-&quot;</td><td>&quot;HES4&quot;</td></tr><tr><td>&quot;ENSG0000018760…</td><td>&quot;chr1&quot;</td><td>1013422</td><td>&quot;+&quot;</td><td>&quot;ISG15&quot;</td></tr><tr><td>&quot;ENSG0000018815…</td><td>&quot;chr1&quot;</td><td>1020122</td><td>&quot;+&quot;</td><td>&quot;AGRN&quot;</td></tr><tr><td>&quot;ENSG0000023733…</td><td>&quot;chr1&quot;</td><td>1074307</td><td>&quot;-&quot;</td><td>&quot;RNF223&quot;</td></tr><tr><td>&hellip;</td><td>&hellip;</td><td>&hellip;</td><td>&hellip;</td><td>&hellip;</td></tr><tr><td>&quot;ENSG0000024238…</td><td>&quot;chrY&quot;</td><td>21918067</td><td>&quot;-&quot;</td><td>&quot;RBMY1E&quot;</td></tr><tr><td>&quot;ENSG0000016980…</td><td>&quot;chrY&quot;</td><td>22182948</td><td>&quot;-&quot;</td><td>&quot;RBMY1F&quot;</td></tr><tr><td>&quot;ENSG0000022694…</td><td>&quot;chrY&quot;</td><td>22403469</td><td>&quot;+&quot;</td><td>&quot;RBMY1J&quot;</td></tr><tr><td>&quot;ENSG0000018375…</td><td>&quot;chrY&quot;</td><td>22984262</td><td>&quot;+&quot;</td><td>&quot;BPY2&quot;</td></tr><tr><td>&quot;ENSG0000018812…</td><td>&quot;chrY&quot;</td><td>23199094</td><td>&quot;-&quot;</td><td>&quot;DAZ1&quot;</td></tr><tr><td>&quot;ENSG0000020594…</td><td>&quot;chrY&quot;</td><td>23219547</td><td>&quot;+&quot;</td><td>&quot;DAZ2&quot;</td></tr><tr><td>&quot;ENSG0000017235…</td><td>&quot;chrY&quot;</td><td>24047969</td><td>&quot;-&quot;</td><td>&quot;CDY1B&quot;</td></tr><tr><td>&quot;ENSG0000018379…</td><td>&quot;chrY&quot;</td><td>24618003</td><td>&quot;+&quot;</td><td>&quot;BPY2B&quot;</td></tr><tr><td>&quot;ENSG0000018719…</td><td>&quot;chrY&quot;</td><td>24813479</td><td>&quot;-&quot;</td><td>&quot;DAZ3&quot;</td></tr><tr><td>&quot;ENSG0000020591…</td><td>&quot;chrY&quot;</td><td>24833916</td><td>&quot;+&quot;</td><td>&quot;DAZ4&quot;</td></tr><tr><td>&quot;ENSG0000018589…</td><td>&quot;chrY&quot;</td><td>25052104</td><td>&quot;-&quot;</td><td>&quot;BPY2C&quot;</td></tr><tr><td>&quot;ENSG0000017228…</td><td>&quot;chrY&quot;</td><td>25622161</td><td>&quot;+&quot;</td><td>&quot;CDY1&quot;</td></tr></tbody></table></div>"
      ],
      "text/plain": [
       "shape: (18_777, 5)\n",
       "┌─────────────────┬───────┬──────────┬────────┬────────┐\n",
       "│ Gene            ┆ Chrom ┆ Pos      ┆ Strand ┆ Symbol │\n",
       "│ ---             ┆ ---   ┆ ---      ┆ ---    ┆ ---    │\n",
       "│ str             ┆ str   ┆ i64      ┆ str    ┆ str    │\n",
       "╞═════════════════╪═══════╪══════════╪════════╪════════╡\n",
       "│ ENSG00000186092 ┆ chr1  ┆ 65418    ┆ +      ┆ OR4F5  │\n",
       "│ ENSG00000284733 ┆ chr1  ┆ 451697   ┆ -      ┆ OR4F29 │\n",
       "│ ENSG00000284662 ┆ chr1  ┆ 686673   ┆ -      ┆ OR4F16 │\n",
       "│ ENSG00000187634 ┆ chr1  ┆ 925737   ┆ +      ┆ SAMD11 │\n",
       "│ …               ┆ …     ┆ …        ┆ …      ┆ …      │\n",
       "│ ENSG00000187191 ┆ chrY  ┆ 24813479 ┆ -      ┆ DAZ3   │\n",
       "│ ENSG00000205916 ┆ chrY  ┆ 24833916 ┆ +      ┆ DAZ4   │\n",
       "│ ENSG00000185894 ┆ chrY  ┆ 25052104 ┆ -      ┆ BPY2C  │\n",
       "│ ENSG00000172288 ┆ chrY  ┆ 25622161 ┆ +      ┆ CDY1   │\n",
       "└─────────────────┴───────┴──────────┴────────┴────────┘"
      ]
     },
     "execution_count": 2,
     "metadata": {},
     "output_type": "execute_result"
    }
   ],
   "source": [
    "greatv4genes = polars.read_csv(\"C:\\\\Users\\\\aurin\\\\Downloads\\\\GREATv4.genes.hg38.tsv\", separator=\"\\t\", new_columns=[\"Gene\", \"Chrom\", \"Pos\", \"Strand\", \"Symbol\"])\n",
    "greatv4genes"
   ]
  },
  {
   "cell_type": "code",
   "execution_count": 8,
   "metadata": {},
   "outputs": [],
   "source": [
    "N = 18777"
   ]
  },
  {
   "cell_type": "markdown",
   "metadata": {},
   "source": [
    "N - all genes, gene set from GREATv4: 18777"
   ]
  },
  {
   "cell_type": "markdown",
   "metadata": {},
   "source": [
    "### differentially expressed genes"
   ]
  },
  {
   "cell_type": "code",
   "execution_count": 3,
   "metadata": {},
   "outputs": [],
   "source": [
    "degs = polars.read_csv(\"C:\\\\Users\\\\aurin\\\\Desktop\\\\tsg2\\\\sig_diffrential_exp.csv\", new_columns=['Geneid', 'baseMean', \n",
    "                                                                                                     'log2FoldChange', 'lfcSE', 'stat',\n",
    "                                                                                                     'pvalue', 'padj'])"
   ]
  },
  {
   "cell_type": "code",
   "execution_count": 4,
   "metadata": {},
   "outputs": [
    {
     "data": {
      "text/html": [
       "<div><style>\n",
       ".dataframe > thead > tr,\n",
       ".dataframe > tbody > tr {\n",
       "  text-align: right;\n",
       "  white-space: pre-wrap;\n",
       "}\n",
       "</style>\n",
       "<small>shape: (3_309, 7)</small><table border=\"1\" class=\"dataframe\"><thead><tr><th>Geneid</th><th>baseMean</th><th>log2FoldChange</th><th>lfcSE</th><th>stat</th><th>pvalue</th><th>padj</th></tr><tr><td>i64</td><td>f64</td><td>f64</td><td>f64</td><td>f64</td><td>f64</td><td>f64</td></tr></thead><tbody><tr><td>100130417</td><td>82.318101</td><td>-3.982386</td><td>0.70524</td><td>-5.646851</td><td>1.6341e-8</td><td>7.0921e-7</td></tr><tr><td>148398</td><td>158.923384</td><td>-2.867301</td><td>0.619037</td><td>-4.631876</td><td>0.000004</td><td>0.000086</td></tr><tr><td>54991</td><td>707.900235</td><td>-1.404706</td><td>0.331799</td><td>-4.2336</td><td>0.000023</td><td>0.000422</td></tr><tr><td>54973</td><td>2757.864457</td><td>-0.981144</td><td>0.319714</td><td>-3.068817</td><td>0.002149</td><td>0.016363</td></tr><tr><td>1855</td><td>2227.961449</td><td>-0.985122</td><td>0.293295</td><td>-3.358812</td><td>0.000783</td><td>0.007501</td></tr><tr><td>441869</td><td>1192.227523</td><td>-2.654387</td><td>0.41337</td><td>-6.421327</td><td>1.3509e-10</td><td>9.3534e-9</td></tr><tr><td>643965</td><td>537.397762</td><td>-3.474457</td><td>0.554649</td><td>-6.264242</td><td>3.7464e-10</td><td>2.3980e-8</td></tr><tr><td>102724312</td><td>324.796468</td><td>-3.842347</td><td>0.5647</td><td>-6.80423</td><td>1.0159e-11</td><td>9.1762e-10</td></tr><tr><td>64856</td><td>7593.563144</td><td>-1.426506</td><td>0.379687</td><td>-3.757056</td><td>0.000172</td><td>0.002212</td></tr><tr><td>219293</td><td>569.372235</td><td>-1.641417</td><td>0.599938</td><td>-2.735978</td><td>0.00622</td><td>0.036902</td></tr><tr><td>142678</td><td>2303.198835</td><td>-1.172132</td><td>0.402569</td><td>-2.911631</td><td>0.003595</td><td>0.02428</td></tr><tr><td>728642</td><td>810.579234</td><td>-1.529156</td><td>0.514792</td><td>-2.970433</td><td>0.002974</td><td>0.021038</td></tr><tr><td>&hellip;</td><td>&hellip;</td><td>&hellip;</td><td>&hellip;</td><td>&hellip;</td><td>&hellip;</td><td>&hellip;</td></tr><tr><td>6535</td><td>6142.54396</td><td>-2.694097</td><td>0.469118</td><td>-5.742904</td><td>9.3066e-9</td><td>4.2791e-7</td></tr><tr><td>5365</td><td>14702.653676</td><td>-2.830471</td><td>0.324109</td><td>-8.733082</td><td>2.4782e-18</td><td>8.4804e-16</td></tr><tr><td>26576</td><td>440.246402</td><td>-1.648073</td><td>0.55269</td><td>-2.981914</td><td>0.002865</td><td>0.020424</td></tr><tr><td>5973</td><td>1164.528906</td><td>-1.551981</td><td>0.567637</td><td>-2.734108</td><td>0.006255</td><td>0.037051</td></tr><tr><td>2010</td><td>1235.679631</td><td>-0.866734</td><td>0.304969</td><td>-2.842037</td><td>0.004483</td><td>0.028579</td></tr><tr><td>158960</td><td>198.500196</td><td>-1.492607</td><td>0.45277</td><td>-3.296609</td><td>0.000979</td><td>0.008914</td></tr><tr><td>2664</td><td>14151.474931</td><td>-0.884054</td><td>0.292334</td><td>-3.024118</td><td>0.002494</td><td>0.018305</td></tr><tr><td>9130</td><td>2364.605746</td><td>-1.309928</td><td>0.3855</td><td>-3.397996</td><td>0.000679</td><td>0.00671</td></tr><tr><td>60343</td><td>1674.309088</td><td>-0.995932</td><td>0.368574</td><td>-2.702127</td><td>0.00689</td><td>0.039999</td></tr><tr><td>79184</td><td>264.293834</td><td>1.102948</td><td>0.369923</td><td>2.981561</td><td>0.002868</td><td>0.020437</td></tr><tr><td>1193</td><td>115.27321</td><td>1.801623</td><td>0.536919</td><td>3.355482</td><td>0.000792</td><td>0.007559</td></tr><tr><td>10251</td><td>167.237442</td><td>1.718893</td><td>0.557006</td><td>3.085952</td><td>0.002029</td><td>0.015711</td></tr></tbody></table></div>"
      ],
      "text/plain": [
       "shape: (3_309, 7)\n",
       "┌───────────┬─────────────┬────────────────┬──────────┬───────────┬───────────┬───────────┐\n",
       "│ Geneid    ┆ baseMean    ┆ log2FoldChange ┆ lfcSE    ┆ stat      ┆ pvalue    ┆ padj      │\n",
       "│ ---       ┆ ---         ┆ ---            ┆ ---      ┆ ---       ┆ ---       ┆ ---       │\n",
       "│ i64       ┆ f64         ┆ f64            ┆ f64      ┆ f64       ┆ f64       ┆ f64       │\n",
       "╞═══════════╪═════════════╪════════════════╪══════════╪═══════════╪═══════════╪═══════════╡\n",
       "│ 100130417 ┆ 82.318101   ┆ -3.982386      ┆ 0.70524  ┆ -5.646851 ┆ 1.6341e-8 ┆ 7.0921e-7 │\n",
       "│ 148398    ┆ 158.923384  ┆ -2.867301      ┆ 0.619037 ┆ -4.631876 ┆ 0.000004  ┆ 0.000086  │\n",
       "│ 54991     ┆ 707.900235  ┆ -1.404706      ┆ 0.331799 ┆ -4.2336   ┆ 0.000023  ┆ 0.000422  │\n",
       "│ 54973     ┆ 2757.864457 ┆ -0.981144      ┆ 0.319714 ┆ -3.068817 ┆ 0.002149  ┆ 0.016363  │\n",
       "│ …         ┆ …           ┆ …              ┆ …        ┆ …         ┆ …         ┆ …         │\n",
       "│ 60343     ┆ 1674.309088 ┆ -0.995932      ┆ 0.368574 ┆ -2.702127 ┆ 0.00689   ┆ 0.039999  │\n",
       "│ 79184     ┆ 264.293834  ┆ 1.102948       ┆ 0.369923 ┆ 2.981561  ┆ 0.002868  ┆ 0.020437  │\n",
       "│ 1193      ┆ 115.27321   ┆ 1.801623       ┆ 0.536919 ┆ 3.355482  ┆ 0.000792  ┆ 0.007559  │\n",
       "│ 10251     ┆ 167.237442  ┆ 1.718893       ┆ 0.557006 ┆ 3.085952  ┆ 0.002029  ┆ 0.015711  │\n",
       "└───────────┴─────────────┴────────────────┴──────────┴───────────┴───────────┴───────────┘"
      ]
     },
     "execution_count": 4,
     "metadata": {},
     "output_type": "execute_result"
    }
   ],
   "source": [
    "degs"
   ]
  },
  {
   "cell_type": "code",
   "execution_count": 7,
   "metadata": {},
   "outputs": [],
   "source": [
    "M = 3309"
   ]
  },
  {
   "cell_type": "markdown",
   "metadata": {},
   "source": [
    "### number of methylated histons"
   ]
  },
  {
   "cell_type": "code",
   "execution_count": 5,
   "metadata": {},
   "outputs": [
    {
     "data": {
      "text/html": [
       "<div><style>\n",
       ".dataframe > thead > tr,\n",
       ".dataframe > tbody > tr {\n",
       "  text-align: right;\n",
       "  white-space: pre-wrap;\n",
       "}\n",
       "</style>\n",
       "<small>shape: (16_099, 3)</small><table border=\"1\" class=\"dataframe\"><thead><tr><th>Gene_symbol</th><th>peaks</th><th>Association rule: Basal+extension: 5000 bp upstream, 1000 bp downstream, 1000000 bp max extension, curated regulatory domains included</th></tr><tr><td>str</td><td>str</td><td>str</td></tr></thead><tbody><tr><td>&quot;A1BG&quot;</td><td>&quot;NA_peak_13497 …</td><td>null</td></tr><tr><td>&quot;A1CF&quot;</td><td>&quot;NA_peak_2888 (…</td><td>null</td></tr><tr><td>&quot;A2M&quot;</td><td>&quot;NA_peak_5077 (…</td><td>null</td></tr><tr><td>&quot;A2ML1&quot;</td><td>&quot;NA_peak_5071 (…</td><td>null</td></tr><tr><td>&quot;A3GALT2&quot;</td><td>&quot;NA_peak_659 (-…</td><td>null</td></tr><tr><td>&quot;A4GALT&quot;</td><td>&quot;NA_peak_16856 …</td><td>null</td></tr><tr><td>&quot;AAAS&quot;</td><td>&quot;NA_peak_5416 (…</td><td>null</td></tr><tr><td>&quot;AACS&quot;</td><td>&quot;NA_peak_6072 (…</td><td>null</td></tr><tr><td>&quot;AADAT&quot;</td><td>&quot;NA_peak_19222 …</td><td>null</td></tr><tr><td>&quot;AAED1&quot;</td><td>&quot;NA_peak_25535 …</td><td>null</td></tr><tr><td>&quot;AAGAB&quot;</td><td>&quot;NA_peak_7970 (…</td><td>null</td></tr><tr><td>&quot;AAK1&quot;</td><td>&quot;NA_peak_14189 …</td><td>null</td></tr><tr><td>&hellip;</td><td>&hellip;</td><td>&hellip;</td></tr><tr><td>&quot;ZUFSP&quot;</td><td>&quot;NA_peak_21560 …</td><td>null</td></tr><tr><td>&quot;ZW10&quot;</td><td>&quot;NA_peak_4642 (…</td><td>null</td></tr><tr><td>&quot;ZWILCH&quot;</td><td>&quot;NA_peak_7961 (…</td><td>null</td></tr><tr><td>&quot;ZWINT&quot;</td><td>&quot;NA_peak_2896 (…</td><td>null</td></tr><tr><td>&quot;ZXDA&quot;</td><td>&quot;NA_peak_26521 …</td><td>null</td></tr><tr><td>&quot;ZXDB&quot;</td><td>&quot;NA_peak_26520 …</td><td>null</td></tr><tr><td>&quot;ZXDC&quot;</td><td>&quot;NA_peak_17865 …</td><td>null</td></tr><tr><td>&quot;ZYG11A&quot;</td><td>&quot;NA_peak_950 (+…</td><td>null</td></tr><tr><td>&quot;ZYG11B&quot;</td><td>&quot;NA_peak_948 (-…</td><td>null</td></tr><tr><td>&quot;ZYX&quot;</td><td>&quot;NA_peak_23853 …</td><td>null</td></tr><tr><td>&quot;ZZEF1&quot;</td><td>&quot;NA_peak_9635 (…</td><td>null</td></tr><tr><td>&quot;ZZZ3&quot;</td><td>&quot;NA_peak_1094 (…</td><td>null</td></tr></tbody></table></div>"
      ],
      "text/plain": [
       "shape: (16_099, 3)\n",
       "┌─────────────┬───────────────────────────────────┬───────────────────────────────────┐\n",
       "│ Gene_symbol ┆ peaks                             ┆ Association rule: Basal+extensio… │\n",
       "│ ---         ┆ ---                               ┆ ---                               │\n",
       "│ str         ┆ str                               ┆ str                               │\n",
       "╞═════════════╪═══════════════════════════════════╪═══════════════════════════════════╡\n",
       "│ A1BG        ┆ NA_peak_13497 (+3039), NA_peak_1… ┆ null                              │\n",
       "│ A1CF        ┆ NA_peak_2888 (-105938), NA_peak_… ┆ null                              │\n",
       "│ A2M         ┆ NA_peak_5077 (+388), NA_peak_507… ┆ null                              │\n",
       "│ A2ML1       ┆ NA_peak_5071 (+68440)             ┆ null                              │\n",
       "│ …           ┆ …                                 ┆ …                                 │\n",
       "│ ZYG11B      ┆ NA_peak_948 (-23118), NA_peak_94… ┆ null                              │\n",
       "│ ZYX         ┆ NA_peak_23853 (+710), NA_peak_23… ┆ null                              │\n",
       "│ ZZEF1       ┆ NA_peak_9635 (-468)               ┆ null                              │\n",
       "│ ZZZ3        ┆ NA_peak_1094 (-75667), NA_peak_1… ┆ null                              │\n",
       "└─────────────┴───────────────────────────────────┴───────────────────────────────────┘"
      ]
     },
     "execution_count": 5,
     "metadata": {},
     "output_type": "execute_result"
    }
   ],
   "source": [
    "meth_03=polars.read_csv(\"C:\\\\Users\\\\aurin\\\\Desktop\\\\tsg2\\\\great\\\\03-associations.txt\", separator=\"\\t\",new_columns=[\"Gene_symbol\", \"peaks\"])\n",
    "meth_03"
   ]
  },
  {
   "cell_type": "code",
   "execution_count": 9,
   "metadata": {},
   "outputs": [],
   "source": [
    "n_03 = 16099"
   ]
  },
  {
   "cell_type": "code",
   "execution_count": 10,
   "metadata": {},
   "outputs": [
    {
     "data": {
      "text/html": [
       "<div><style>\n",
       ".dataframe > thead > tr,\n",
       ".dataframe > tbody > tr {\n",
       "  text-align: right;\n",
       "  white-space: pre-wrap;\n",
       "}\n",
       "</style>\n",
       "<small>shape: (16_435, 3)</small><table border=\"1\" class=\"dataframe\"><thead><tr><th>Gene_symbol</th><th>peaks</th><th>Association rule: Basal+extension: 5000 bp upstream, 1000 bp downstream, 1000000 bp max extension, curated regulatory domains included</th></tr><tr><td>str</td><td>str</td><td>str</td></tr></thead><tbody><tr><td>&quot;A1BG&quot;</td><td>&quot;NA_peak_15296 …</td><td>null</td></tr><tr><td>&quot;A1CF&quot;</td><td>&quot;NA_peak_3312 (…</td><td>null</td></tr><tr><td>&quot;A2M&quot;</td><td>&quot;NA_peak_5815 (…</td><td>null</td></tr><tr><td>&quot;A2ML1&quot;</td><td>&quot;NA_peak_5809 (…</td><td>null</td></tr><tr><td>&quot;A3GALT2&quot;</td><td>&quot;NA_peak_710 (-…</td><td>null</td></tr><tr><td>&quot;A4GALT&quot;</td><td>&quot;NA_peak_19180 …</td><td>null</td></tr><tr><td>&quot;AAAS&quot;</td><td>&quot;NA_peak_6231 (…</td><td>null</td></tr><tr><td>&quot;AACS&quot;</td><td>&quot;NA_peak_7047 (…</td><td>null</td></tr><tr><td>&quot;AADAC&quot;</td><td>&quot;NA_peak_20522 …</td><td>null</td></tr><tr><td>&quot;AADAT&quot;</td><td>&quot;NA_peak_21901 …</td><td>null</td></tr><tr><td>&quot;AAED1&quot;</td><td>&quot;NA_peak_28904 …</td><td>null</td></tr><tr><td>&quot;AAGAB&quot;</td><td>&quot;NA_peak_9154 (…</td><td>null</td></tr><tr><td>&hellip;</td><td>&hellip;</td><td>&hellip;</td></tr><tr><td>&quot;ZUFSP&quot;</td><td>&quot;NA_peak_24513 …</td><td>null</td></tr><tr><td>&quot;ZW10&quot;</td><td>&quot;NA_peak_5328 (…</td><td>null</td></tr><tr><td>&quot;ZWILCH&quot;</td><td>&quot;NA_peak_9141 (…</td><td>null</td></tr><tr><td>&quot;ZWINT&quot;</td><td>&quot;NA_peak_3327 (…</td><td>null</td></tr><tr><td>&quot;ZXDA&quot;</td><td>&quot;NA_peak_30009 …</td><td>null</td></tr><tr><td>&quot;ZXDB&quot;</td><td>&quot;NA_peak_30007 …</td><td>null</td></tr><tr><td>&quot;ZXDC&quot;</td><td>&quot;NA_peak_20294 …</td><td>null</td></tr><tr><td>&quot;ZYG11A&quot;</td><td>&quot;NA_peak_1051 (…</td><td>null</td></tr><tr><td>&quot;ZYG11B&quot;</td><td>&quot;NA_peak_1049 (…</td><td>null</td></tr><tr><td>&quot;ZYX&quot;</td><td>&quot;NA_peak_26979 …</td><td>null</td></tr><tr><td>&quot;ZZEF1&quot;</td><td>&quot;NA_peak_11054 …</td><td>null</td></tr><tr><td>&quot;ZZZ3&quot;</td><td>&quot;NA_peak_1213 (…</td><td>null</td></tr></tbody></table></div>"
      ],
      "text/plain": [
       "shape: (16_435, 3)\n",
       "┌─────────────┬───────────────────────────────────┬───────────────────────────────────┐\n",
       "│ Gene_symbol ┆ peaks                             ┆ Association rule: Basal+extensio… │\n",
       "│ ---         ┆ ---                               ┆ ---                               │\n",
       "│ str         ┆ str                               ┆ str                               │\n",
       "╞═════════════╪═══════════════════════════════════╪═══════════════════════════════════╡\n",
       "│ A1BG        ┆ NA_peak_15296 (-3249), NA_peak_1… ┆ null                              │\n",
       "│ A1CF        ┆ NA_peak_3312 (-105850), NA_peak_… ┆ null                              │\n",
       "│ A2M         ┆ NA_peak_5815 (+325), NA_peak_581… ┆ null                              │\n",
       "│ A2ML1       ┆ NA_peak_5809 (+59426)             ┆ null                              │\n",
       "│ …           ┆ …                                 ┆ …                                 │\n",
       "│ ZYG11B      ┆ NA_peak_1049 (-23130), NA_peak_1… ┆ null                              │\n",
       "│ ZYX         ┆ NA_peak_26979 (+685), NA_peak_26… ┆ null                              │\n",
       "│ ZZEF1       ┆ NA_peak_11054 (-297)              ┆ null                              │\n",
       "│ ZZZ3        ┆ NA_peak_1213 (-75673), NA_peak_1… ┆ null                              │\n",
       "└─────────────┴───────────────────────────────────┴───────────────────────────────────┘"
      ]
     },
     "execution_count": 10,
     "metadata": {},
     "output_type": "execute_result"
    }
   ],
   "source": [
    "meth_05=polars.read_csv(\"C:\\\\Users\\\\aurin\\\\Desktop\\\\tsg2\\\\great\\\\05-associations.txt\", separator=\"\\t\",new_columns=[\"Gene_symbol\", \"peaks\"])\n",
    "meth_05"
   ]
  },
  {
   "cell_type": "code",
   "execution_count": 11,
   "metadata": {},
   "outputs": [],
   "source": [
    "n_05 = 16435"
   ]
  },
  {
   "cell_type": "markdown",
   "metadata": {},
   "source": [
    "### gene intersection"
   ]
  },
  {
   "cell_type": "code",
   "execution_count": 12,
   "metadata": {},
   "outputs": [
    {
     "data": {
      "text/html": [
       "<div><style>\n",
       ".dataframe > thead > tr,\n",
       ".dataframe > tbody > tr {\n",
       "  text-align: right;\n",
       "  white-space: pre-wrap;\n",
       "}\n",
       "</style>\n",
       "<small>shape: (3_309, 2)</small><table border=\"1\" class=\"dataframe\"><thead><tr><th>Entrez</th><th>Symbol</th></tr><tr><td>i64</td><td>str</td></tr></thead><tbody><tr><td>100130417</td><td>&quot;LINC02593&quot;</td></tr><tr><td>148398</td><td>&quot;SAMD11&quot;</td></tr><tr><td>54991</td><td>&quot;C1orf159&quot;</td></tr><tr><td>54973</td><td>&quot;INTS11&quot;</td></tr><tr><td>1855</td><td>&quot;DVL1&quot;</td></tr><tr><td>441869</td><td>&quot;ANKRD65&quot;</td></tr><tr><td>643965</td><td>&quot;TMEM88B&quot;</td></tr><tr><td>102724312</td><td>&quot;LINC01770&quot;</td></tr><tr><td>64856</td><td>&quot;VWA1&quot;</td></tr><tr><td>219293</td><td>&quot;ATAD3C&quot;</td></tr><tr><td>142678</td><td>&quot;MIB2&quot;</td></tr><tr><td>728642</td><td>&quot;CDK11A&quot;</td></tr><tr><td>&hellip;</td><td>&hellip;</td></tr><tr><td>6535</td><td>&quot;SLC6A8&quot;</td></tr><tr><td>5365</td><td>&quot;PLXNB3&quot;</td></tr><tr><td>26576</td><td>&quot;SRPK3&quot;</td></tr><tr><td>5973</td><td>&quot;RENBP&quot;</td></tr><tr><td>2010</td><td>&quot;EMD&quot;</td></tr><tr><td>158960</td><td>&quot;CH17-340M24.3&quot;</td></tr><tr><td>2664</td><td>&quot;GDI1&quot;</td></tr><tr><td>9130</td><td>&quot;FAM50A&quot;</td></tr><tr><td>60343</td><td>&quot;FAM3A&quot;</td></tr><tr><td>79184</td><td>&quot;BRCC3&quot;</td></tr><tr><td>1193</td><td>&quot;CLIC2&quot;</td></tr><tr><td>10251</td><td>&quot;SPRY3&quot;</td></tr></tbody></table></div>"
      ],
      "text/plain": [
       "shape: (3_309, 2)\n",
       "┌───────────┬───────────┐\n",
       "│ Entrez    ┆ Symbol    │\n",
       "│ ---       ┆ ---       │\n",
       "│ i64       ┆ str       │\n",
       "╞═══════════╪═══════════╡\n",
       "│ 100130417 ┆ LINC02593 │\n",
       "│ 148398    ┆ SAMD11    │\n",
       "│ 54991     ┆ C1orf159  │\n",
       "│ 54973     ┆ INTS11    │\n",
       "│ …         ┆ …         │\n",
       "│ 60343     ┆ FAM3A     │\n",
       "│ 79184     ┆ BRCC3     │\n",
       "│ 1193      ┆ CLIC2     │\n",
       "│ 10251     ┆ SPRY3     │\n",
       "└───────────┴───────────┘"
      ]
     },
     "execution_count": 12,
     "metadata": {},
     "output_type": "execute_result"
    }
   ],
   "source": [
    "deg_symbols = polars.read_csv(\"C:\\\\Users\\\\aurin\\\\Desktop\\\\tsg2\\\\gene_symbols.tabular\", separator=\"\\t\", new_columns=[\"Entrez\", \"Symbol\"])\n",
    "deg_symbols"
   ]
  },
  {
   "cell_type": "code",
   "execution_count": null,
   "metadata": {},
   "outputs": [],
   "source": [
    "deg_symbols_set = set(deg_symbols['Symbol'])"
   ]
  },
  {
   "cell_type": "code",
   "execution_count": 14,
   "metadata": {},
   "outputs": [],
   "source": [
    "meth_03_set = set(meth_03['Gene_symbol'])\n",
    "meth_05_set = set(meth_05['Gene_symbol'])"
   ]
  },
  {
   "cell_type": "code",
   "execution_count": 15,
   "metadata": {},
   "outputs": [
    {
     "data": {
      "text/plain": [
       "2750"
      ]
     },
     "execution_count": 15,
     "metadata": {},
     "output_type": "execute_result"
    }
   ],
   "source": [
    "intersect_03 = deg_symbols_set.intersection(meth_03_set)\n",
    "k_intersect_03 = len(intersect_03)\n",
    "k_intersect_03"
   ]
  },
  {
   "cell_type": "code",
   "execution_count": 16,
   "metadata": {},
   "outputs": [
    {
     "data": {
      "text/plain": [
       "2797"
      ]
     },
     "execution_count": 16,
     "metadata": {},
     "output_type": "execute_result"
    }
   ],
   "source": [
    "intersect_05 = deg_symbols_set.intersection(meth_05_set)\n",
    "k_intersect_05 = len(intersect_05)\n",
    "k_intersect_05"
   ]
  },
  {
   "cell_type": "markdown",
   "metadata": {},
   "source": [
    "### hypergeometric test"
   ]
  },
  {
   "cell_type": "code",
   "execution_count": 17,
   "metadata": {},
   "outputs": [],
   "source": [
    "set_03 = [k_intersect_03, N, M, n_03]\n",
    "set_05 = [k_intersect_05, N, M, n_05]"
   ]
  },
  {
   "cell_type": "code",
   "execution_count": 18,
   "metadata": {},
   "outputs": [],
   "source": [
    "def hypergeometric_test(zestaw):\n",
    "    k,N,M,n = zestaw\n",
    "    p_value = hypergeom.cdf(k,N,M,n)\n",
    "\n",
    "    return p_value"
   ]
  },
  {
   "cell_type": "code",
   "execution_count": 19,
   "metadata": {},
   "outputs": [
    {
     "name": "stdout",
     "output_type": "stream",
     "text": [
      "03 sample p-value:  1.594015877958816e-06\n"
     ]
    }
   ],
   "source": [
    "print(\"03 sample p-value: \", hypergeometric_test(set_03))"
   ]
  },
  {
   "cell_type": "code",
   "execution_count": 20,
   "metadata": {},
   "outputs": [
    {
     "name": "stdout",
     "output_type": "stream",
     "text": [
      "05 sample p-value:  1.1201827811542678e-08\n"
     ]
    }
   ],
   "source": [
    "print(\"05 sample p-value: \", hypergeometric_test(set_05))"
   ]
  }
 ],
 "metadata": {
  "kernelspec": {
   "display_name": "Python 3",
   "language": "python",
   "name": "python3"
  },
  "language_info": {
   "codemirror_mode": {
    "name": "ipython",
    "version": 3
   },
   "file_extension": ".py",
   "mimetype": "text/x-python",
   "name": "python",
   "nbconvert_exporter": "python",
   "pygments_lexer": "ipython3",
   "version": "3.10.10"
  }
 },
 "nbformat": 4,
 "nbformat_minor": 2
}
